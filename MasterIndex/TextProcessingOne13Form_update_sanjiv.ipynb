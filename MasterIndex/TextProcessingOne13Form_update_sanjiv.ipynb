{
 "cells": [
  {
   "cell_type": "markdown",
   "metadata": {},
   "source": [
    "# Code to process a 13D/F/G filing and pull out required fields"
   ]
  },
  {
   "cell_type": "code",
   "execution_count": 1,
   "metadata": {},
   "outputs": [
    {
     "name": "stdout",
     "output_type": "stream",
     "text": [
      "Populating the interactive namespace from numpy and matplotlib\n"
     ]
    }
   ],
   "source": [
    "%pylab inline\n",
    "import pandas as pd\n",
    "from bs4 import BeautifulSoup\n",
    "import requests\n",
    "import re"
   ]
  },
  {
   "cell_type": "markdown",
   "metadata": {},
   "source": [
    "## Do all extraction in one block of code - Run this"
   ]
  },
  {
   "cell_type": "code",
   "execution_count": null,
   "metadata": {},
   "outputs": [],
   "source": [
    "%time\n",
    "\n",
    "# Create an empty data frame. To be populated later with quarterly from info.\n",
    "form_links = pd.DataFrame(columns = ['CIK', 'Company Name', 'Form Type', 'Date Filed', 'Filename'])\n",
    "\n",
    "# Function to extract URLs of Form 13*. URLs to be used to access HTML/XML documents of interest\n",
    "#\n",
    "# Input: First and last years in range of years we want Form 13s pulled\n",
    "#\n",
    "# Output: Dataframe of all Form 13* filed during range of years specified.\n",
    "\n",
    "def extract_13_url(first, last):\n",
    "\n",
    "    for yr in range(first, last):\n",
    "        for qr in range(1,5):\n",
    "\n",
    "            #print(yr)\n",
    "            df = pd.read_csv('MasterIndex'+str(yr)+ '_' + str(qr)+'.idx', encoding='latin1', sep = '\\t')\n",
    "            data = df.iloc[6:].reset_index(drop=True)\n",
    "            data = data.rename(columns={'Description:           Master Index of EDGAR Dissemination Feed': 'messy'})\n",
    "            meep = data.messy.str.split('|', expand = True)\n",
    "\n",
    "            raw = meep.rename(columns={0: 'CIK', 1: 'Company Name', 2: 'Form Type', 3: 'Date Filed', 4: 'Filename'})\n",
    "            #raw = raw[raw['Form Type'].str.contains('13D')| head['Form Type'].str.contains('13F') |\\\n",
    "            #          raw['Form Type'].str.contains('13G')].reset_index(drop=True)\n",
    "\n",
    "            raw = raw[raw['Form Type'].str.match('.*13D.*|.*13F.*|.*13G.*')].reset_index(drop = True)\n",
    "\n",
    "            form_links = form_links.append(raw)\n",
    "\n",
    "    form_links = form_links.reset_index(drop = True)"
   ]
  },
  {
   "cell_type": "code",
   "execution_count": null,
   "metadata": {},
   "outputs": [],
   "source": [
    "#extract_13_url(1997, 2019)"
   ]
  },
  {
   "cell_type": "markdown",
   "metadata": {},
   "source": [
    "Save the dataframe to a csv file so we only need to load it down the pipeline."
   ]
  },
  {
   "cell_type": "code",
   "execution_count": null,
   "metadata": {},
   "outputs": [],
   "source": [
    "### DO NOT RUN ###\n",
    "#form_links.to_csv('form_info.csv', index = False)\n",
    "### DO NOT RUN ###"
   ]
  },
  {
   "cell_type": "markdown",
   "metadata": {},
   "source": [
    "Below, test for the first filename to check for single file processing"
   ]
  },
  {
   "cell_type": "code",
   "execution_count": 2,
   "metadata": {},
   "outputs": [
    {
     "data": {
      "text/html": [
       "<div>\n",
       "<style scoped>\n",
       "    .dataframe tbody tr th:only-of-type {\n",
       "        vertical-align: middle;\n",
       "    }\n",
       "\n",
       "    .dataframe tbody tr th {\n",
       "        vertical-align: top;\n",
       "    }\n",
       "\n",
       "    .dataframe thead th {\n",
       "        text-align: right;\n",
       "    }\n",
       "</style>\n",
       "<table border=\"1\" class=\"dataframe\">\n",
       "  <thead>\n",
       "    <tr style=\"text-align: right;\">\n",
       "      <th></th>\n",
       "      <th>CIK</th>\n",
       "      <th>Company Name</th>\n",
       "      <th>Form Type</th>\n",
       "      <th>Date Filed</th>\n",
       "      <th>Filename</th>\n",
       "    </tr>\n",
       "  </thead>\n",
       "  <tbody>\n",
       "    <tr>\n",
       "      <th>0</th>\n",
       "      <td>1000014</td>\n",
       "      <td>RICE PARTNERS II L P</td>\n",
       "      <td>SC 13D</td>\n",
       "      <td>1997-03-14</td>\n",
       "      <td>edgar/data/1000014/0000930661-97-000604.txt</td>\n",
       "    </tr>\n",
       "    <tr>\n",
       "      <th>1</th>\n",
       "      <td>1000015</td>\n",
       "      <td>META GROUP INC</td>\n",
       "      <td>SC 13G/A</td>\n",
       "      <td>1997-01-30</td>\n",
       "      <td>edgar/data/1000015/0000941407-97-000032.txt</td>\n",
       "    </tr>\n",
       "    <tr>\n",
       "      <th>2</th>\n",
       "      <td>1000015</td>\n",
       "      <td>META GROUP INC</td>\n",
       "      <td>SC 13G/A</td>\n",
       "      <td>1997-02-12</td>\n",
       "      <td>edgar/data/1000015/0000950129-97-000571.txt</td>\n",
       "    </tr>\n",
       "    <tr>\n",
       "      <th>3</th>\n",
       "      <td>1000015</td>\n",
       "      <td>META GROUP INC</td>\n",
       "      <td>SC 13G</td>\n",
       "      <td>1997-02-12</td>\n",
       "      <td>edgar/data/1000015/0000080255-97-000155.txt</td>\n",
       "    </tr>\n",
       "    <tr>\n",
       "      <th>4</th>\n",
       "      <td>1000015</td>\n",
       "      <td>META GROUP INC</td>\n",
       "      <td>SC 13G</td>\n",
       "      <td>1997-02-13</td>\n",
       "      <td>edgar/data/1000015/0001000015-97-000003.txt</td>\n",
       "    </tr>\n",
       "  </tbody>\n",
       "</table>\n",
       "</div>"
      ],
      "text/plain": [
       "       CIK          Company Name Form Type  Date Filed  \\\n",
       "0  1000014  RICE PARTNERS II L P    SC 13D  1997-03-14   \n",
       "1  1000015        META GROUP INC  SC 13G/A  1997-01-30   \n",
       "2  1000015        META GROUP INC  SC 13G/A  1997-02-12   \n",
       "3  1000015        META GROUP INC    SC 13G  1997-02-12   \n",
       "4  1000015        META GROUP INC    SC 13G  1997-02-13   \n",
       "\n",
       "                                      Filename  \n",
       "0  edgar/data/1000014/0000930661-97-000604.txt  \n",
       "1  edgar/data/1000015/0000941407-97-000032.txt  \n",
       "2  edgar/data/1000015/0000950129-97-000571.txt  \n",
       "3  edgar/data/1000015/0000080255-97-000155.txt  \n",
       "4  edgar/data/1000015/0001000015-97-000003.txt  "
      ]
     },
     "execution_count": 2,
     "metadata": {},
     "output_type": "execute_result"
    }
   ],
   "source": [
    "df = pd.read_csv('form_info.csv', index_col = False)\n",
    "df.head()"
   ]
  },
  {
   "cell_type": "markdown",
   "metadata": {},
   "source": [
    "This is a very clean table. We can likely use the CIK from each row to match with the respective company's CIK in the Compustat table.\n",
    "\n",
    "However, this Form 13* table includes both the target and acquirer's CIK for the same filing (in other words, we have duplicate filings). We will need to figure out how to workaround duplicates, or find another to uniquely identify each filing."
   ]
  },
  {
   "cell_type": "markdown",
   "metadata": {},
   "source": [
    "Fortunately, we know that each filing only contains the target's CUSIP number. Compustat data also contains a company's CUSIP number (which is unique). \n",
    "\n",
    "Therefore, we will have to extract the CUSIP no. from each filing and append it to the table as a new field."
   ]
  },
  {
   "cell_type": "code",
   "execution_count": null,
   "metadata": {},
   "outputs": [],
   "source": [
    "### DO NOT RUN ###\n",
    "### Psedocode for later reference ###\n",
    "if df['Date Filed'][1] >= last_filing & <= this_filing: \n",
    "    return that row's qtr\n",
    "else:\n",
    "    check the next row of datetbl \n",
    "### DO NOT RUN ###"
   ]
  },
  {
   "cell_type": "markdown",
   "metadata": {},
   "source": [
    "#### Test - do not delete"
   ]
  },
  {
   "cell_type": "code",
   "execution_count": null,
   "metadata": {},
   "outputs": [],
   "source": [
    "#Fields we want to collect\n",
    "fields = [\"COMPANY CONFORMED NAME\",\"CENTRAL INDEX KEY\",\"STANDARD INDUSTRIAL CLASSIFICATION\",\"CUSIP NO.\"]\n",
    "\n",
    "for x in range(1,10):\n",
    "    url = 'https://www.sec.gov/Archives/' + df.Filename[x]\n",
    "    \n",
    "    f = requests.get(url)\n",
    "    BeautifulSoup(f.content,'lxml').get_text()"
   ]
  },
  {
   "cell_type": "markdown",
   "metadata": {},
   "source": [
    "### Content Extraction"
   ]
  },
  {
   "cell_type": "code",
   "execution_count": 4,
   "metadata": {},
   "outputs": [],
   "source": [
    "td = df[df['Form Type'].str.match('.*13D')].reset_index(drop = True)"
   ]
  },
  {
   "cell_type": "code",
   "execution_count": 6,
   "metadata": {},
   "outputs": [],
   "source": [
    "# Specify index of the file we want. Here, we will use index = 1 as a test.\n",
    "x = 1\n",
    "\n",
    "url = 'https://www.sec.gov/Archives/' + td.Filename[x]"
   ]
  },
  {
   "cell_type": "code",
   "execution_count": 7,
   "metadata": {},
   "outputs": [],
   "source": [
    "# Fields we want to collect\n",
    "fields = [\"COMPANY CONFORMED NAME\",\"CENTRAL INDEX KEY\",\"STANDARD INDUSTRIAL CLASSIFICATION\",\"CUSIP No.\"]"
   ]
  },
  {
   "cell_type": "code",
   "execution_count": 8,
   "metadata": {},
   "outputs": [
    {
     "data": {
      "text/plain": [
       "'-----BEGIN PRIVACY-ENHANCED MESSAGE-----\\nProc-Type: 2001,MIC-CLEAR\\nOriginator-Name: webmaster@www.sec.gov\\nOriginator-Key-Asymmetric:\\n MFgwCgYEVQgBAQICAf8DSgAwRwJAW2sNKK9AVtBzYZmr6aGjlWyK3XmZv3dTINen\\n TWSM7vrzLADbmYQaionwg5sDW3P6oaM5D3tdezXMm7z1T+B+twIDAQAB\\nMIC-Info: RSA-MD5,RSA,\\n Ja1MZAmdR+lxFmIP2eosVLh1cYQ/DGwYuDsfi7lUWUxXKgdvJT/+MKEDRnydF2AR\\n qXjSP3zXtZwlYl1wQuJUMQ==\\n\\n0000950116-97-000432.txt : 19970310\\n0000950116-97-000432.hdr.sgml : 19970310\\nACCESSION NUMBER:\\t\\t0000950116-97-000432\\nCONFORMED SUBMISSION TYPE:\\tSC 13D\\nPUBLIC DOCUMENT COUNT:\\t\\t1\\nFILED AS OF DATE:\\t\\t19970307\\nSROS:\\t\\t\\tNONE\\n\\nSUBJECT COMPANY:\\t\\n\\n\\tCOMPANY DATA:\\t\\n\\t\\tCOMPANY CONFORMED NAME:\\t\\t\\tSC&T INTERNATIONAL INC\\n\\t\\tCENTRAL INDEX KEY:\\t\\t\\t0001000079\\n\\t\\tSTANDARD INDUSTRIAL CLASSIFICATION:\\tCOMPUTER PERIPHERAL EQUIPMENT, NEC [3577]\\n\\t\\tIRS NUMBER:\\t\\t\\t\\t860737579\\n\\t\\tSTATE OF INCORPORATION:\\t\\t\\tAZ\\n\\t\\tFISCAL YEAR END:\\t\\t\\t0630\\n\\n\\tFILING VALUES:\\n\\t\\tFORM TYPE:\\t\\tSC 13D\\n\\t\\tSEC ACT:\\t\\t1934 Act\\n\\t\\tSEC FILE NUMBER:\\t005-47001\\n\\t\\tFILM NUMBER:\\t\\t97552434\\n\\n\\tBUSINESS ADDRESS:\\t\\n\\t\\tSTREET 1:\\t\\t3837 E LASALLE ST\\n\\t\\tCITY:\\t\\t\\tPHOENIX\\n\\t\\tSTATE:\\t\\t\\tAZ\\n\\t\\tZIP:\\t\\t\\t85040\\n\\t\\tBUSINESS PHONE:\\t\\t6024701334\\n\\nFILED BY:\\t\\t\\n\\n\\tCOMPANY DATA:\\t\\n\\t\\tCOMPANY CONFORMED NAME:\\t\\t\\tCAPITAL VENTURES INTERNATIONAL /E9/\\n\\t\\tCENTRAL INDEX KEY:\\t\\t\\t0001011712\\n\\t\\tSTANDARD INDUSTRIAL CLASSIFICATION:\\t []\\n\\t\\tSTATE OF INCORPORATION:\\t\\t\\tE9\\n\\t\\tFISCAL YEAR END:\\t\\t\\t1231\\n\\n\\tFILING VALUES:\\n\\t\\tFORM TYPE:\\t\\tSC 13D\\n\\n\\tBUSINESS ADDRESS:\\t\\n\\t\\tSTREET 1:\\t\\t1900 MARKET ST\\n\\t\\tSTREET 2:\\t\\tC/O ARBIT INC\\n\\t\\tCITY:\\t\\t\\tPHILADELPHIA\\n\\t\\tSTATE:\\t\\t\\tPA\\n\\t\\tZIP:\\t\\t\\t19102\\n\\t\\tBUSINESS PHONE:\\t\\t2159633379\\n\\n\\tMAIL ADDRESS:\\t\\n\\t\\tSTREET 1:\\t\\t1900 MARKET ST\\n\\t\\tSTREET 2:\\t\\tC/O ARBIT INC\\n\\t\\tCITY:\\t\\t\\tPDELPHIA\\n\\t\\tSTATE:\\t\\t\\tPA\\n\\t\\tZIP:\\t\\t\\t19102\\n\\n\\nSC 13D\\n1\\n\\n\\n\\n                       SECURITIES AND EXCHANGE COMMISSION\\n                              Washington, DC 20549\\n\\n                                  Schedule 13D\\n\\n                    Under the Securities Exchange Act of 1934\\n                               (Amendment No. 2 )\\n\\n                            SC&T International, Inc.\\n- --------------------------------------------------------------------------------\\n                                (Name of Issuer)\\n\\n                       Common Stock, $.01 par value share\\n- --------------------------------------------------------------------------------\\n                         (Title of Class of Securities)\\n\\n                                   783975 10 5\\n- --------------------------------------------------------------------------------\\n                                 (CUSIP Number)\\n\\n                            Stephen T. Burdumy, Esq.\\n                            Todd L. Silverberg, Esq.\\n                   Klehr, Harrison, Harvey, Branzburg & Ellers\\n                               1401 Walnut Street\\n                             Philadelphia, PA 19102\\n- --------------------------------------------------------------------------------\\n                  (Name, Address and Telephone Number of Person\\n                Authorized to Receive Notices and Communications)\\n\\n                                February 14, 1997\\n- --------------------------------------------------------------------------------\\n             (Date of Event which Requires Filing of this Statement)\\n\\nIf the filing person has previously filed a statement on Schedule 13G to report\\nthe acquisition which is the subject of this Schedule 13D, and is filing this\\nschedule because of Rule 13d-1(b)(3) or (4), check the following box / /.\\n\\nCheck the following box if a fee is being paid with the statement / /. (A fee is\\nnot required only if the reporting person: (1) has a previous statement on file\\nreporting beneficial ownership of more than five percent of the class of\\nsecurities described in Item 1; and (2) has filed no amendment subsequent\\nthereto reporting beneficial ownership of five percent or less of such class.)\\n(See Rule 13d-7.)\\n\\nNote: Six copies of this statement, including all exhibits, should be filed with\\nthe  Commission.  See Rule  13d-1(a) for other  parties to whom copies are to be\\nsent.\\n\\n\\n\\n\\n\\n\\n\\n\\n                        (Continued on following page(s))\\n\\n                                   Page 1 of 5\\n\\n\\n\\n\\n- ----------------------                                       -------------------\\n\\nCUSIP No.  783975 10 5                                       Page 2 of  5  Pages\\n                                                                       ---\\n- ----------------------                                       -------------------\\n\\n- -------------------------------------------------------------------------------\\n    1      NAME OF REPORTING PERSONS\\n           S.S OR I.R.S. IDENTIFICATION NOS. OF ABOVE PERSONS\\n\\n           Capital Ventures International\\n- ------------------------------------------------------------------------------\\n    2      CHECK THE APPROPRIATE BOX IF A MEMBER OF A GROUP*    (a)  [ ] \\n                                                                (b)  [ ] \\n- ------------------------------------------------------------------------------\\n    3      SEC USE ONLY\\n- ------------------------------------------------------------------------------\\n    4      SOURCE OF FUNDS*\\n           WC\\n- ------------------------------------------------------------------------------\\n    5      CHECK BOX IF DISCLOSURE OF LEGAL PROCEEDING IS REQUIRED \\n           PURSUANT TO ITEM 2(d) OR 2(e)                             [ ]    \\n            \\n- ------------------------------------------------------------------------------\\n    6      CITIZENSHIP OR PLACE OR ORGANIZATION\\n           Cayman Islands\\n- ------------------------------------------------------------------------------\\n  NUMBER OF    |  7  |   SOLE VOTING POWER\\n   SHARES      |     |   6,393,145\\nBENEFICIALLY   |     |\\n  OWNED BY     |  8  |   SHARED VOTING POWER           \\n   EACH        |     |   N/A\\n REPORTING     |  9  |   SOLE DISPOSITIVE POWER\\nPERSON WITH    |     |   6,393,145\\n               | 10  |   SHARED DISPOSITIVE POWER\\n               |     |   N/A\\n- ------------------------------------------------------------------------------\\n   11     AGGREGATE AMOUNT BENEFICIALLY OWNED BY EACH REPORTING PERSON\\n              6,393,145\\n- ------------------------------------------------------------------------------\\n   12     CHECK BOX IF THE AGGREGATE AMOUNT IN ROW (11) EXCLUDES\\n          CERTAIN SHARES*                                             [ ]\\n- ------------------------------------------------------------------------------\\n   13     PERCENT OF CLASS REPRESENTED BY AMOUNT IN ROW (11)\\n\\n              27.9%**\\n- ------------------------------------------------------------------------------\\n   14     TYPE OF REPORTING PERSON*\\n              CO\\n- ------------------------------------------------------------------------------\\n                                      \\n                      *SEE INSTRUCTIONS BEFORE FILLING OUT\\n\\n\\n**See Item 5 below.\\n\\n\\n\\n\\n- ----------------------                                       -------------------\\n\\nCUSIP No.  783975 10 5                                       Page 3 of  5  Pages\\n                                                                       ---\\n- ----------------------                                       -------------------\\n\\n\\n\\n\\n\\n                       SECURITIES AND EXCHANGE COMMISSION\\n                             Washington, D.C. 20549\\n\\n                                  SCHEDULE 13D\\n\\n                                  Statement of\\n                      Reporting Persons (as defined below)\\n\\n                        Pursuant to Section 13(d) of the\\n                         Securities Exchange Act of 1934\\n\\n                                  in respect of\\n\\n                            SC&T INTERNATIONAL, INC.\\n\\n\\n\\n         This statement relates to the common stock (\"Common Stock\") of SC&T\\nInternational, Inc. (the \"Company\"). This statement constitutes Amendment No. 2\\nto the Schedule 13D of Capital Ventures International (\"CVI\") initially filed\\nwith the Commission on October 3, 1996 (the \"Initial Filing\"). In the Initial\\nFiling, CVI voluntarily reported its ownership of 100 shares of the Company\\'s\\nSeries A Preferred Stock and the potential for its ownership of certain shares\\nof Common Stock issuable upon conversion of such shares of Series A Preferred\\nStock. On December 13, 1996, the Initial Filing was amended (\"Amendment No. 1\")\\nin order to report CVI\\'s beneficial ownership of certain shares of Common Stock\\nin connection with the conversion of all of its Series A Preferred Stock. Except\\nas disclosed herein, there has been no change in the information previously\\nreported in the Initial Filing and Amendment No. 1. Capital terms not defined\\nherein shall have the meanings ascribed to them in the Initial Filing and\\nAmendment No. 1.\\n\\n\\nItem 5. Interest in Securities of the Issuer.\\n\\n         Item 5 is hereby amended by deleting the first and second paragraphs\\nand by adding the following in place thereof:\\n\\n         \"Based upon the information contained in the Company\\'s Quarterly Report\\non Form 10-Q for the quarter ended December 31, 1996 (\"December 1996 10-Q\"), the\\nnumber of shares of Common Stock outstanding is 22,935,263 and the total number\\nof authorized shares of Common Stock is 25,000,000.\\n\\n         As of the date hereof, CVI is the beneficial owner of 6,393,145 shares\\nof Common Stock, or 27.9% of the shares of Common Stock outstanding, as reported\\nin the Company\\'s December 1996 10-Q. According to the December 1996 10-Q, the\\nCompany had 718 shares of Series A Preferred Stock outstanding as of December\\n31, 1996. The Company has advised CVI that the Company has no additional shares\\nof Common Stock to issue upon conversion of such outstanding Series A Preferred\\nStock. If additional shares become authorized and/or available for issuance upon\\n\\n\\n\\n\\n- ----------------------                                       -------------------\\n\\nCUSIP No.  783975 10 5                                       Page 4 of  5  Pages\\n                                                                       ---\\n- ----------------------                                       -------------------\\n\\n\\nconversion of the outstanding Series A Preferred Stock, CVI\\'s effective\\npercentage ownership could be reduced substantially.\\n\\n         CVI\\'s beneficial ownership of the shares of Common Stock is direct. CVI\\nhas sole voting and dispositive power with respect to such shares.\"\\n\\n\\n\\n\\n\\n\\n\\n\\n- ----------------------                                       -------------------\\n\\nCUSIP No.  783975 10 5                                       Page 5 of  5  Pages\\n                                                                       ---\\n- ----------------------                                       -------------------\\n\\n\\n\\n                                    SIGNATURE\\n\\n         After reasonable inquiry and to the best of my knowledge and belief, I\\ncertify that the information set forth in this statement is true, complete and\\ncorrect.\\n\\n\\nMarch 7, 1997\\n- -------------\\nDate                        CAPITAL VENTURES INTERNATIONAL\\n\\n                            By:  Bala International, Inc. (f/k/a Arbit Inc.),\\n                                 its authorized agent\\n\\n\\n                            By: \\\\s\\\\Arthur Dantchik\\n                            -----------------------------------\\n                                Arthur Dantchik, Director\\n\\n\\n\\n\\n\\n\\n\\n\\n-----END PRIVACY-ENHANCED MESSAGE-----\\n'"
      ]
     },
     "execution_count": 8,
     "metadata": {},
     "output_type": "execute_result"
    }
   ],
   "source": [
    "f = requests.get(url)\n",
    "BeautifulSoup(f.content,'lxml').get_text()"
   ]
  },
  {
   "cell_type": "markdown",
   "metadata": {},
   "source": [
    "Code separately in the function below:\n",
    "- Item 4\n",
    "- Item 5\n",
    "- (Date of Event Which Requires Filing of this Statement)\n",
    "- SOURCE OF FUNDS*\n",
    "- AGGREGATE AMOUNT BENEFICIALLY OWNED BY EACH REPORTING PERSON\n",
    "- PERCENT OF CLASS REPRESENTED BY AMOUNT IN ROW (11)"
   ]
  },
  {
   "cell_type": "code",
   "execution_count": 15,
   "metadata": {},
   "outputs": [],
   "source": [
    "# MAIN FUNCTIONS TO DO ALL EXTRACTION\n",
    "#SEARCH LIST OF TEXT FOR ITEM LINE NUMBER \n",
    "\n",
    "\n",
    "def findLineNumber(list_of_text,text_item):\n",
    "    res = [j for j in list_of_text if re.search(text_item,j)]\n",
    "    for item in res:\n",
    "        idx = list_of_text.index(item)\n",
    "        \n",
    "    return idx\n",
    "        \n",
    "def extract13D(url):\n",
    "    print(\"URL: \",url)\n",
    "    f = requests.get(url)\n",
    "    text = BeautifulSoup(f.content,'lxml').get_text()\n",
    "    #Split into lines\n",
    "    list13d = text.splitlines()\n",
    "    #Remove all stuff that starts with /xa0 and then all blank lines\n",
    "    list13d = [j for j in list13d if j.startswith('\\xa0')==False]\n",
    "    list13d = [j for j in list13d if len(j)>0]\n",
    "    for field in fields:\n",
    "        print('Field: ',field)\n",
    "        res = [j for j in list13d if re.search(field,j)]\n",
    "        for r in res:\n",
    "            x = re.split('[\\t]',r) \n",
    "            y = [j for j in x if len(j)>0][-1]\n",
    "            print(y)\n",
    "        print(' ')\n",
    "    #PROCESS ALL ITEMS\n",
    "    #Item 4\n",
    "    print('Field: Purpose of Transaction')\n",
    "    start_idx = findLineNumber(list13d,'Item 4')\n",
    "    end_idx = findLineNumber(list13d,'Item 5.')\n",
    "    print(' '.join(list13d[(start_idx+1):end_idx]))\n"
   ]
  },
  {
   "cell_type": "code",
   "execution_count": 16,
   "metadata": {},
   "outputs": [
    {
     "name": "stdout",
     "output_type": "stream",
     "text": [
      "URL:  https://www.sec.gov/Archives/edgar/data/1000079/0000950116-97-000432.txt\n",
      "Field:  COMPANY CONFORMED NAME\n",
      "SC&T INTERNATIONAL INC\n",
      "CAPITAL VENTURES INTERNATIONAL /E9/\n",
      " \n",
      "Field:  CENTRAL INDEX KEY\n",
      "0001000079\n",
      "0001011712\n",
      " \n",
      "Field:  STANDARD INDUSTRIAL CLASSIFICATION\n",
      "COMPUTER PERIPHERAL EQUIPMENT, NEC [3577]\n",
      " []\n",
      " \n",
      "Field:  CUSIP No.\n",
      "CUSIP No.  783975 10 5                                       Page 2 of  5  Pages\n",
      "CUSIP No.  783975 10 5                                       Page 3 of  5  Pages\n",
      "CUSIP No.  783975 10 5                                       Page 4 of  5  Pages\n",
      "CUSIP No.  783975 10 5                                       Page 5 of  5  Pages\n",
      " \n",
      "Field: Purpose of Transaction\n"
     ]
    },
    {
     "ename": "UnboundLocalError",
     "evalue": "local variable 'idx' referenced before assignment",
     "output_type": "error",
     "traceback": [
      "\u001b[1;31m---------------------------------------------------------------------------\u001b[0m",
      "\u001b[1;31mUnboundLocalError\u001b[0m                         Traceback (most recent call last)",
      "\u001b[1;32m<ipython-input-16-41ae3abcce6e>\u001b[0m in \u001b[0;36m<module>\u001b[1;34m\u001b[0m\n\u001b[1;32m----> 1\u001b[1;33m \u001b[0mextract13D\u001b[0m\u001b[1;33m(\u001b[0m\u001b[0murl\u001b[0m\u001b[1;33m)\u001b[0m\u001b[1;33m\u001b[0m\u001b[1;33m\u001b[0m\u001b[0m\n\u001b[0m",
      "\u001b[1;32m<ipython-input-15-42f080f49292>\u001b[0m in \u001b[0;36mextract13D\u001b[1;34m(url)\u001b[0m\n\u001b[0;32m     30\u001b[0m     \u001b[1;31m#Item 4\u001b[0m\u001b[1;33m\u001b[0m\u001b[1;33m\u001b[0m\u001b[1;33m\u001b[0m\u001b[0m\n\u001b[0;32m     31\u001b[0m     \u001b[0mprint\u001b[0m\u001b[1;33m(\u001b[0m\u001b[1;34m'Field: Purpose of Transaction'\u001b[0m\u001b[1;33m)\u001b[0m\u001b[1;33m\u001b[0m\u001b[1;33m\u001b[0m\u001b[0m\n\u001b[1;32m---> 32\u001b[1;33m     \u001b[0mstart_idx\u001b[0m \u001b[1;33m=\u001b[0m \u001b[0mfindLineNumber\u001b[0m\u001b[1;33m(\u001b[0m\u001b[0mlist13d\u001b[0m\u001b[1;33m,\u001b[0m\u001b[1;34m'Item 4'\u001b[0m\u001b[1;33m)\u001b[0m\u001b[1;33m\u001b[0m\u001b[1;33m\u001b[0m\u001b[0m\n\u001b[0m\u001b[0;32m     33\u001b[0m     \u001b[0mend_idx\u001b[0m \u001b[1;33m=\u001b[0m \u001b[0mfindLineNumber\u001b[0m\u001b[1;33m(\u001b[0m\u001b[0mlist13d\u001b[0m\u001b[1;33m,\u001b[0m\u001b[1;34m'Item 5.'\u001b[0m\u001b[1;33m)\u001b[0m\u001b[1;33m\u001b[0m\u001b[1;33m\u001b[0m\u001b[0m\n\u001b[0;32m     34\u001b[0m     \u001b[0mprint\u001b[0m\u001b[1;33m(\u001b[0m\u001b[1;34m' '\u001b[0m\u001b[1;33m.\u001b[0m\u001b[0mjoin\u001b[0m\u001b[1;33m(\u001b[0m\u001b[0mlist13d\u001b[0m\u001b[1;33m[\u001b[0m\u001b[1;33m(\u001b[0m\u001b[0mstart_idx\u001b[0m\u001b[1;33m+\u001b[0m\u001b[1;36m1\u001b[0m\u001b[1;33m)\u001b[0m\u001b[1;33m:\u001b[0m\u001b[0mend_idx\u001b[0m\u001b[1;33m]\u001b[0m\u001b[1;33m)\u001b[0m\u001b[1;33m)\u001b[0m\u001b[1;33m\u001b[0m\u001b[1;33m\u001b[0m\u001b[0m\n",
      "\u001b[1;32m<ipython-input-15-42f080f49292>\u001b[0m in \u001b[0;36mfindLineNumber\u001b[1;34m(list_of_text, text_item)\u001b[0m\n\u001b[0;32m      8\u001b[0m         \u001b[0midx\u001b[0m \u001b[1;33m=\u001b[0m \u001b[0mlist_of_text\u001b[0m\u001b[1;33m.\u001b[0m\u001b[0mindex\u001b[0m\u001b[1;33m(\u001b[0m\u001b[0mitem\u001b[0m\u001b[1;33m)\u001b[0m\u001b[1;33m\u001b[0m\u001b[1;33m\u001b[0m\u001b[0m\n\u001b[0;32m      9\u001b[0m \u001b[1;33m\u001b[0m\u001b[0m\n\u001b[1;32m---> 10\u001b[1;33m     \u001b[1;32mreturn\u001b[0m \u001b[0midx\u001b[0m\u001b[1;33m\u001b[0m\u001b[1;33m\u001b[0m\u001b[0m\n\u001b[0m\u001b[0;32m     11\u001b[0m \u001b[1;33m\u001b[0m\u001b[0m\n\u001b[0;32m     12\u001b[0m \u001b[1;32mdef\u001b[0m \u001b[0mextract13D\u001b[0m\u001b[1;33m(\u001b[0m\u001b[0murl\u001b[0m\u001b[1;33m)\u001b[0m\u001b[1;33m:\u001b[0m\u001b[1;33m\u001b[0m\u001b[1;33m\u001b[0m\u001b[0m\n",
      "\u001b[1;31mUnboundLocalError\u001b[0m: local variable 'idx' referenced before assignment"
     ]
    }
   ],
   "source": [
    "extract13D(url)"
   ]
  },
  {
   "cell_type": "markdown",
   "metadata": {},
   "source": [
    "Reqs:\n",
    "\n",
    "* Pulled information should be in individual columns for each filing\n",
    "\n",
    "Down the pipeline:\n",
    "\n",
    "* Each filing can be matched to the target company's 10Q, w.r.t. the given quarter"
   ]
  },
  {
   "cell_type": "markdown",
   "metadata": {},
   "source": [
    "Ideas:\n",
    "\n",
    "* cumulative number of forms for each target/investor\n",
    "* column to i.d. if initial form issue\n",
    "* column to i.d. if amendement of form\n",
    "* column to calc number (trading) days since last form issued for target"
   ]
  },
  {
   "cell_type": "markdown",
   "metadata": {},
   "source": [
    "<b>\n",
    "Reqs as of 5/16/2019:\n",
    "\n",
    "* CUSIP from each 13D\n",
    "* Date of filing\n",
    "* binary column\n",
    "</b>"
   ]
  },
  {
   "cell_type": "markdown",
   "metadata": {},
   "source": [
    "Extract 13D only now\n",
    "\n",
    "Fiscal year \n",
    "\n",
    "List of variables\n",
    "\n",
    "Look at lit review for ideas\n",
    "\n",
    "B/M ratio\n",
    "\n",
    "firm size --> log(assets)\n",
    "\n",
    "leverage\n",
    "\n",
    "FCF\n",
    "\n",
    "cash assets\n",
    "\n",
    "R&D/assets\n",
    "\n",
    "PPE assets\n",
    "\n",
    "sales growth\n",
    "\n",
    "profit margin\n",
    "\n",
    "- institutional holdings\n",
    "- corporate board structure\n",
    "\n",
    "- control for corporate governance var (e.g. female bod)\n",
    "\n",
    "Boardex variable descriptions\n",
    "\n",
    "Risk metrics"
   ]
  },
  {
   "cell_type": "code",
   "execution_count": null,
   "metadata": {},
   "outputs": [],
   "source": []
  }
 ],
 "metadata": {
  "kernelspec": {
   "display_name": "Python 3",
   "language": "python",
   "name": "python3"
  },
  "language_info": {
   "codemirror_mode": {
    "name": "ipython",
    "version": 3
   },
   "file_extension": ".py",
   "mimetype": "text/x-python",
   "name": "python",
   "nbconvert_exporter": "python",
   "pygments_lexer": "ipython3",
   "version": "3.7.3"
  }
 },
 "nbformat": 4,
 "nbformat_minor": 2
}
